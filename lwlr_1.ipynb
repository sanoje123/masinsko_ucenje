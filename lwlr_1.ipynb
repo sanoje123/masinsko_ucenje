{
 "cells": [
  {
   "cell_type": "code",
   "execution_count": 1,
   "metadata": {},
   "outputs": [],
   "source": [
    "import matplotlib.pyplot as plt\n",
    "import pandas as pd\n",
    "import numpy as np"
   ]
  },
  {
   "cell_type": "markdown",
   "metadata": {},
   "source": [
    "The **Standardiser()** class performs data set standardization. It stores parameters obtained from the training set to consistently transform each new sample in the same way."
   ]
  },
  {
   "cell_type": "code",
   "execution_count": 2,
   "metadata": {},
   "outputs": [],
   "source": [
    "# Standardization formula: z = (x - mean) / standard_deviation\n",
    "\n",
    "class Standardiser():\n",
    "    def __init__(self) -> None:\n",
    "        pass\n",
    "\n",
    "    def fit(self, X):\n",
    "        self.size = X.shape[1]\n",
    "        self.mean = X.mean(axis=0)\n",
    "        self.std = X.std(axis=0)\n",
    "        return self     #returns self, which allows method chaining\n",
    "\n",
    "    def transform(self,X):\n",
    "        if X.shape[1] != self.size:\n",
    "            raise Exception(\"Wrong array dimensions!\")\n",
    "        return (X-self.mean)/self.std\n"
   ]
  },
  {
   "cell_type": "markdown",
   "metadata": {},
   "source": [
    "Help functions:"
   ]
  },
  {
   "cell_type": "code",
   "execution_count": 3,
   "metadata": {},
   "outputs": [],
   "source": [
    "def shuffle_data(X, Y):\n",
    "    data_num = np.arange(X.shape[0])\n",
    "    np.random.shuffle(data_num)\n",
    "    return X[data_num], Y[data_num]\n",
    "\n",
    "def train_test_split(X, Y, test_size=0.5, shuffle=True):\n",
    "    \"\"\"\n",
    "    Splits dataset into training and test sets.\n",
    "\n",
    "    Parameters:\n",
    "    ----------\n",
    "    X : array-like\n",
    "        Feature dataset.\n",
    "    y : array-like\n",
    "        Target values.\n",
    "    test_size : float or int, default=0.5\n",
    "        - If float (0 < test_size < 1), it represents the proportion of the dataset to include in the test split.\n",
    "        - If int (1 <= test_size < len(y)), it represents the absolute number of test samples.\n",
    "    shuffle : bool, default=True\n",
    "        If True, shuffles data before splitting.\n",
    "\n",
    "    Returns:\n",
    "    -------\n",
    "    X_train, X_test, y_train, y_test : array-like\n",
    "        Split feature and target sets for training and testing.\"\"\"\n",
    "\n",
    "    if shuffle:\n",
    "        X, Y = shuffle_data(X, Y)\n",
    "    if test_size <1 :\n",
    "        train_ratio = len(Y) - int(len(Y) *test_size)\n",
    "        X_train, X_test = X[:train_ratio], X[train_ratio:]\n",
    "        Y_train, Y_test = Y[:train_ratio], Y[train_ratio:]\n",
    "        return X_train, X_test, Y_train, Y_test\n",
    "    elif test_size in range(1,len(Y)):\n",
    "        X_train, X_test = X[test_size:], X[:test_size]\n",
    "        Y_train, Y_test = Y[test_size:], Y[:test_size]\n",
    "        return X_train, X_test, Y_train, Y_test\n",
    "    "
   ]
  },
  {
   "cell_type": "markdown",
   "metadata": {},
   "source": [
    "Class **LWLR()** used for locally weighted linear regression."
   ]
  },
  {
   "cell_type": "code",
   "execution_count": 4,
   "metadata": {},
   "outputs": [],
   "source": [
    "class LWLR():\n",
    "    def __init__(self,tau=1):\n",
    "        self.tau = tau\n",
    "\n",
    "\n",
    "    def fit(self,X, Y):\n",
    "        self.dim = X.ndim\n",
    "        self.X = self._add_ones(X)\n",
    "        self.X_T = self.X.T\n",
    "        self.Y = Y\n",
    "        # self.lambda_reg = 0.5 #If we add regularization term\n",
    "\n",
    "\n",
    "    def predict(self, P):\n",
    "        P = self._add_ones(P)\n",
    "        out = []\n",
    "        for p in P:\n",
    "            # Vectorized calculation of weights\n",
    "            W = np.exp(-np.sum((self.X - p) ** 2, axis=1) / (2 * self.tau ** 2))    #Do the sume because we have many predictors\n",
    "            W_diag = np.diag(W)\n",
    "            # Calculate theta using vectorized operations\n",
    "            XT_W_X = self.X_T @ W_diag @ self.X\n",
    "            # XT_W_X += self.lambda_reg * np.eye(XT_W_X.shape[0])  #We can ddd regularization term\n",
    "            XT_W_Y = self.X_T @ W_diag @ self.Y\n",
    "            theta = np.linalg.solve(XT_W_X, XT_W_Y) #Solving XT_W_X @ theta = XT_W_Y is faster and more stable than calculating np.linalg.inv(XT_W_X) @ XT_W_Y\n",
    "            # Make prediction\n",
    "            out.append((theta @ p).squeeze())\n",
    "        return np.array(out)\n",
    "\n",
    "\n",
    "    # Used to change tau, necessary for cross-validation\n",
    "    def change(self,tau):\n",
    "        self.tau = tau\n",
    "\n",
    "\n",
    "    def _add_ones(self, X):\n",
    "        if type(X) != np.ndarray:\n",
    "            X = np.array(X)\n",
    "        return np.concatenate((np.ones((len(X),1)), X.reshape(len(X),-1)), axis=1)"
   ]
  },
  {
   "cell_type": "markdown",
   "metadata": {},
   "source": [
    "Functions used for cross-validation."
   ]
  },
  {
   "cell_type": "code",
   "execution_count": 5,
   "metadata": {},
   "outputs": [],
   "source": [
    "def evaluate_model(Y_true, Y_pred, metric=\"rmse\", normalize=True):\n",
    "    \"\"\"\n",
    "    Evaluate the model based on the specified metric.\n",
    "\n",
    "    Parameters:\n",
    "    - Y_true (array-like): True labels.\n",
    "    - Y_pred (array-like): Predicted labels.\n",
    "    - metric (str): The metric to use for evaluation. Options are \"class_accuracy\" and \"rmse\".\n",
    "    - normalize (bool): If True, returns accuracy as a fraction; otherwise, returns the count.\n",
    "\n",
    "    Returns:\n",
    "    - float: Calculated score based on the specified metric.\n",
    "    \"\"\"\n",
    "    \n",
    "    Y_true, Y_pred = np.ravel(Y_true), np.ravel(Y_pred)  # Flatten to 1D\n",
    "\n",
    "    if Y_true.shape != Y_pred.shape:\n",
    "        raise ValueError(\"Y_true and Y_pred must have the same number of elements.\")\n",
    "    \n",
    "    if metric == \"class_accuracy\":\n",
    "        score = np.mean(Y_true == Y_pred) if normalize else np.sum(Y_true == Y_pred)\n",
    "    elif metric == \"rmse\":\n",
    "        score = np.sqrt((np.square(Y_pred - Y_true)).mean())\n",
    "    else:\n",
    "        raise ValueError(\"Invalid metric. Choose either 'accuracy' or 'rmse'.\")\n",
    "    return score\n",
    "\n",
    "\n",
    "def cross_val_split(X, Y, num_folds):\n",
    "    fold_size = len(X)//num_folds\n",
    "    X_splits, Y_splits = [], []\n",
    "\n",
    "    for i in range(num_folds):\n",
    "        start_index = i * fold_size\n",
    "        if i == num_folds-1:\n",
    "            X_splits.append(X[start_index:])\n",
    "            Y_splits.append(Y[start_index:])\n",
    "        else:\n",
    "            X_splits.append(X[start_index:start_index + fold_size])\n",
    "            Y_splits.append(Y[start_index:start_index + fold_size])\n",
    "    return X_splits, Y_splits\n",
    "\n",
    "\n",
    "def cross_val_score(model, X, Y, num_folds=5, scoring='rmse'):\n",
    "    X_splits, Y_splits = cross_val_split(X, Y, num_folds)\n",
    "    errors_train = []  \n",
    "    errors_valid = []\n",
    "\n",
    "    for i in range(num_folds):\n",
    "        X_train_data = np.concatenate([fold for a, fold in enumerate(X_splits) if a != i])\n",
    "        Y_train_data = np.concatenate([fold for a, fold in enumerate(Y_splits) if a != i])\n",
    "        X_valid_data = X_splits[i]\n",
    "        Y_valid_data = Y_splits[i]\n",
    "\n",
    "        model.fit(X_train_data, Y_train_data)\n",
    "        prediction_train = model.predict(X_train_data)\n",
    "        prediction_valid = model.predict(X_valid_data)\n",
    "        # Calculating mean square error\n",
    "        train = evaluate_model(Y_train_data, prediction_train, metric=scoring)\n",
    "        valid = evaluate_model(Y_valid_data, prediction_valid, metric=scoring)\n",
    "        errors_train.append(train)\n",
    "        errors_valid.append(valid) \n",
    "    return np.array(errors_train), np.array(errors_valid)\n",
    "\n",
    "\n",
    "def validation_curve(model, X, Y, param_range, num_folds=5, scoring='rmse'):\n",
    "    \"\"\"\n",
    "    Generate training and validation errors for a model across a specified range of parameter values.\n",
    "\n",
    "    Parameters:\n",
    "    - model (class): The model class (not instance) to be evaluated. The model class should support a method\n",
    "                     `change` to adjust the parameter being tested (e.g., learning rate, regularization).\n",
    "    - X (array-like): Input features.\n",
    "    - Y (array-like): Target labels.\n",
    "    - param_range (iterable): A range of parameter values to evaluate (e.g., different values for 'tau').\n",
    "    - num_folds (int, optional): Number of folds for cross-validation. Default is 5.\n",
    "    - scoring (str, optional): The metric used to evaluate model performance. Options are \"class_accuracy\" \n",
    "                               and \"rmse\" (root mean square error). Default is \"rmse\".\n",
    "\n",
    "    Returns:\n",
    "    - tuple: Two lists containing arrays of training and validation errors for each parameter value in `param_range`.\n",
    "             Each entry in the lists corresponds to the error results across the cross-validation folds for \n",
    "             a specific parameter value.\n",
    "    \n",
    "    The function evaluates the model's performance over a series of parameter values (e.g., regularization values or\n",
    "    learning rates) by performing cross-validation for each value. The model's `change` method is used to adjust\n",
    "    the tested parameter. Training and validation errors for each parameter value are stored, allowing for a comparison\n",
    "    of model performance across the parameter range.\n",
    "    \"\"\"\n",
    "    \n",
    "    range_error_train, range_error_valid = [], []\n",
    "    model_use = model()\n",
    "    for i in param_range:\n",
    "        model_use.change(i)\n",
    "        errors_train, errors_valid = cross_val_score(model_use, X, Y, num_folds, scoring)\n",
    "        range_error_train.append(errors_train)\n",
    "        range_error_valid.append(errors_valid)\n",
    "    return range_error_train, range_error_valid"
   ]
  },
  {
   "cell_type": "markdown",
   "metadata": {},
   "source": [
    "Program running:"
   ]
  },
  {
   "cell_type": "code",
   "execution_count": 6,
   "metadata": {},
   "outputs": [
    {
     "data": {
      "image/png": "[encoded data removed]",
      "text/plain": [
       "<Figure size 640x480 with 1 Axes>"
      ]
     },
     "metadata": {},
     "output_type": "display_data"
    }
   ],
   "source": [
    "#Read the data\n",
    "dile_name = 'data-reg.csv'\n",
    "raw_data = pd.read_csv(dile_name, header=None).to_numpy()\n",
    "X = raw_data[:,:5]\n",
    "Y = raw_data[:,-1]\n",
    "\n",
    "#Split data to train test datasets\n",
    "X_train, X_test, Y_train, Y_test = train_test_split(X,Y, test_size=0.2, shuffle=True)\n",
    "\n",
    "#Standardisation of the data \n",
    "scaler = Standardiser().fit(X_train)\n",
    "try:\n",
    "    X_train_scaled = scaler.transform(X_train)\n",
    "    X_test_scaled = scaler.transform(X_test)\n",
    "except Exception as e:\n",
    "  print(e)\n",
    "\n",
    "\n",
    "#Choosing optimal hyperparameters\n",
    "tau_range = np.linspace(0.8,10,num=100)\n",
    "range_errors_train, range_errors_valid = validation_curve(LWLR, X_train_scaled, Y_train, tau_range, num_folds=5, scoring='rmse')\n",
    "\n",
    "# Each column contains the score for one \"fold\" of cross-validation.\n",
    "# Each row corresponds to a specific polynomial degree.\n",
    "# We use the folds to calculate the mean and \n",
    "# standard deviation of the score for each individual polynomial degree.\n",
    "train_scores_mean = np.mean(range_errors_train, axis=1)\n",
    "train_scores_std = np.std(range_errors_train, axis=1)\n",
    "valid_scores_mean = np.mean(range_errors_valid, axis=1)\n",
    "valid_scores_std = np.std(range_errors_valid, axis=1)\n",
    "\n",
    "plt.title(\"Validation + Training curve\")\n",
    "plt.xlabel(r\"$\\tau$\")\n",
    "plt.ylabel(r\"RMSE($\\tau$)\")\n",
    "lw = 2\n",
    "plt.plot(tau_range, train_scores_mean, label=\"Training\", color=\"darkorange\")\n",
    "plt.fill_between(tau_range, train_scores_mean - train_scores_std,\n",
    "                train_scores_mean + train_scores_std, alpha=0.2,\n",
    "                color=\"darkorange\")\n",
    "plt.plot(tau_range, valid_scores_mean, label=\"Validation\", color=\"navy\")\n",
    "plt.fill_between(tau_range, valid_scores_mean - valid_scores_std,\n",
    "                valid_scores_mean + valid_scores_std, alpha=0.2,\n",
    "                color=\"navy\")\n",
    "plt.plot([10, 10], [4, 7], 'r--', label = r\"Selected $\\tau$\")\n",
    "plt.legend(loc=\"best\")\n",
    "plt.show()"
   ]
  },
  {
   "cell_type": "markdown",
   "metadata": {},
   "source": [
    "Since we observe that for small values of tau, the error on the training set is the lowest, while it is the highest on the validation set, we conclude that overfitting has occurred here. Essentially, this makes sense because each point is given a very small neighborhood in which other points have an influence, causing the model to learn each point individually without generalizing.\n",
    "\n",
    "For larger values of tau (tested up to tau = 100), we see a saturation effect, meaning that beyond a certain value, the specific choice of tau is less critical. I selected a tau of 10 as the best value based on the provided graph, balancing the error on the training and validation sets."
   ]
  },
  {
   "cell_type": "markdown",
   "metadata": {},
   "source": [
    "Calculating error for optimal model:"
   ]
  },
  {
   "cell_type": "code",
   "execution_count": 7,
   "metadata": {},
   "outputs": [
    {
     "name": "stdout",
     "output_type": "stream",
     "text": [
      "Mean square error on training data:\n",
      "5.57\n",
      "Mean square error on test data:\n",
      "5.54\n"
     ]
    }
   ],
   "source": [
    "tau_opt = 10\n",
    "lwlr = LWLR(tau_opt)\n",
    "lwlr.fit(X_train_scaled,Y_train)\n",
    "\n",
    "# Generating prediction\n",
    "prediction_train = lwlr.predict(X_train_scaled)\n",
    "prediction_test = lwlr.predict(X_test_scaled)\n",
    "\n",
    "# Calculating mean square error\n",
    "mse_train = evaluate_model(Y_train, prediction_train, metric='rmse')\n",
    "mse_test = evaluate_model(Y_test, prediction_test, metric='rmse')\n",
    "\n",
    "print(\"Mean square error on training data:\")\n",
    "print(\"{:.2f}\".format(mse_train))\n",
    "print(\"Mean square error on test data:\")\n",
    "print(\"{:.2f}\".format(mse_test))"
   ]
  }
 ],
 "metadata": {
  "kernelspec": {
   "display_name": "masinsko_env",
   "language": "python",
   "name": "python3"
  },
  "language_info": {
   "codemirror_mode": {
    "name": "ipython",
    "version": 3
   },
   "file_extension": ".py",
   "mimetype": "text/x-python",
   "name": "python",
   "nbconvert_exporter": "python",
   "pygments_lexer": "ipython3",
   "version": "3.10.15"
  }
 },
 "nbformat": 4,
 "nbformat_minor": 2
}
