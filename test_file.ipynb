{
 "cells": [
  {
   "cell_type": "code",
   "execution_count": 1,
   "metadata": {},
   "outputs": [],
   "source": [
    "import matplotlib.pyplot as plt\n",
    "import pandas as pd\n",
    "import numpy as np"
   ]
  },
  {
   "cell_type": "code",
   "execution_count": 2,
   "metadata": {},
   "outputs": [],
   "source": [
    "# Standardization formula: z = (x - mean) / standard_deviation\n",
    "\n",
    "class Standardiser():\n",
    "    def __init__(self) -> None:\n",
    "        pass\n",
    "\n",
    "    def fit(self, X):\n",
    "        self.size = X.shape[1]\n",
    "        self.mean = X.mean(axis=0)\n",
    "        self.std = X.std(axis=0)\n",
    "        return self     #returns self, which allows method chaining\n",
    "\n",
    "    def transform(self,X):\n",
    "        if X.shape[1] != self.size:\n",
    "            raise Exception(\"Wrong array dimensions!\")\n",
    "        return (X-self.mean)/self.std\n"
   ]
  },
  {
   "cell_type": "code",
   "execution_count": 3,
   "metadata": {},
   "outputs": [],
   "source": [
    "def shuffle_data(X, Y):\n",
    "    data_num = np.arange(X.shape[0])\n",
    "    np.random.shuffle(data_num)\n",
    "    return X[data_num], Y[data_num]\n",
    "\n",
    "def train_test_split(X, Y, test_size=0.5, shuffle=True):\n",
    "    \"\"\"\n",
    "    Splits dataset into training and test sets.\n",
    "\n",
    "    Parameters:\n",
    "    ----------\n",
    "    X : array-like\n",
    "        Feature dataset.\n",
    "    y : array-like\n",
    "        Target values.\n",
    "    test_size : float or int, default=0.5\n",
    "        - If float (0 < test_size < 1), it represents the proportion of the dataset to include in the test split.\n",
    "        - If int (1 <= test_size < len(y)), it represents the absolute number of test samples.\n",
    "    shuffle : bool, default=True\n",
    "        If True, shuffles data before splitting.\n",
    "\n",
    "    Returns:\n",
    "    -------\n",
    "    X_train, X_test, y_train, y_test : array-like\n",
    "        Split feature and target sets for training and testing.\"\"\"\n",
    "\n",
    "    if shuffle:\n",
    "        X, Y = shuffle_data(X, Y)\n",
    "    if test_size <1 :\n",
    "        train_ratio = len(Y) - int(len(Y) *test_size)\n",
    "        X_train, X_test = X[:train_ratio], X[train_ratio:]\n",
    "        Y_train, Y_test = Y[:train_ratio], Y[train_ratio:]\n",
    "        return X_train, X_test, Y_train, Y_test\n",
    "    elif test_size in range(1,len(Y)):\n",
    "        X_train, X_test = X[test_size:], X[:test_size]\n",
    "        Y_train, Y_test = Y[test_size:], Y[:test_size]\n",
    "        return X_train, X_test, Y_train, Y_test\n",
    "    "
   ]
  },
  {
   "cell_type": "markdown",
   "metadata": {},
   "source": [
    "Class **LWLR()** used for locally weighted linear regression."
   ]
  },
  {
   "cell_type": "code",
   "execution_count": 4,
   "metadata": {},
   "outputs": [],
   "source": [
    "class LWLR():\n",
    "    def __init__(self,tau=1):\n",
    "        self.tau = tau\n",
    "\n",
    "\n",
    "    def fit(self,X, Y):\n",
    "        self.dim = X.ndim\n",
    "        self.X = self._add_ones(X)\n",
    "        self.X_T = self.X.T\n",
    "        self.Y = Y\n",
    "        # self.lambda_reg = 0.5 #If we add regularization term\n",
    "\n",
    "\n",
    "    def predict(self, P):\n",
    "        P = self._add_ones(P)\n",
    "        out = []\n",
    "        for p in P:\n",
    "            # Vectorized calculation of weights\n",
    "            W = np.exp(-np.sum((self.X - p) ** 2, axis=1) / (2 * self.tau ** 2))    #Do the sume because we have many predictors\n",
    "            W_diag = np.diag(W)\n",
    "            # Calculate theta using vectorized operations\n",
    "            XT_W_X = self.X_T @ W_diag @ self.X\n",
    "            # XT_W_X += self.lambda_reg * np.eye(XT_W_X.shape[0])  #We can ddd regularization term\n",
    "            XT_W_Y = self.X_T @ W_diag @ self.Y\n",
    "            theta = np.linalg.solve(XT_W_X, XT_W_Y) #Solving XT_W_X @ theta = XT_W_Y is faster and more stable than calculating np.linalg.inv(XT_W_X) @ XT_W_Y\n",
    "            # Make prediction\n",
    "            out.append((theta @ p).squeeze())\n",
    "        return np.array(out)\n",
    "\n",
    "\n",
    "    def change_tau(self,tau):\n",
    "        self.tau = tau\n",
    "\n",
    "\n",
    "    def _add_ones(self, X):\n",
    "        if type(X) != np.ndarray:\n",
    "            X = np.array(X)\n",
    "        return np.concatenate((np.ones((len(X),1)), X.reshape(len(X),-1)), axis=1)"
   ]
  },
  {
   "cell_type": "markdown",
   "metadata": {},
   "source": [
    "Functions used for cross-validation."
   ]
  },
  {
   "cell_type": "code",
   "execution_count": 5,
   "metadata": {},
   "outputs": [],
   "source": [
    "def cross_val_split(X, Y, num_folds):\n",
    "    fold_size = len(X)//num_folds\n",
    "    X_splits, Y_splits = [], []\n",
    "\n",
    "    for i in range(num_folds):\n",
    "        start_index = i * fold_size\n",
    "        if i == num_folds-1:\n",
    "            X_splits.append(X[start_index:])\n",
    "            Y_splits.append(Y[start_index:])\n",
    "        else:\n",
    "            X_splits.append(X[start_index:start_index + fold_size])\n",
    "            Y_splits.append(Y[start_index:start_index + fold_size])\n",
    "    return X_splits, Y_splits\n",
    "\n",
    "\n",
    "def cross_val_score(model, X, Y, num_folds=5, scoring='f1_macro'):\n",
    "    X_splits, Y_splits = cross_val_split(X, Y, num_folds)\n",
    "    errors_train = []  \n",
    "    errors_valid = []\n",
    "\n",
    "    for i in range(num_folds):\n",
    "        X_train_data = np.concatenate([fold for a, fold in enumerate(X_splits) if a != i])\n",
    "        Y_train_data = np.concatenate([fold for a, fold in enumerate(Y_splits) if a != i])\n",
    "        X_valid_data = X_splits[i]\n",
    "        Y_valid_data = Y_splits[i]\n",
    "\n",
    "        model.fit(X_train_data, Y_train_data)\n",
    "        prediction_train = model.predict(X_train_data)\n",
    "        prediction_test = model.predict(X_valid_data)\n",
    "        # Calculating mean square error\n",
    "        mse_train = np.sqrt((np.square(prediction_train - Y_train_data)).mean())\n",
    "        mse_valid = np.sqrt((np.square(prediction_test - Y_valid_data)).mean())\n",
    "        errors_train.append(mse_train)\n",
    "        errors_valid.append(mse_valid) \n",
    "    return np.array(errors_train), np.array(errors_valid)\n",
    "\n",
    "\n",
    "def validation_curve(model, X, Y, param_range, num_folds=5, scoring='neg_mean_squared_error'):\n",
    "    range_error_train, range_error_valid = [], []\n",
    "    lwlr = model()\n",
    "    for i in param_range:\n",
    "        lwlr.change_tau(i)\n",
    "        errors_train, errors_valid = cross_val_score(lwlr, X, Y, num_folds)\n",
    "        range_error_train.append(errors_train)\n",
    "        range_error_valid.append(errors_valid)\n",
    "    return range_error_train, range_error_valid"
   ]
  },
  {
   "cell_type": "code",
   "execution_count": 6,
   "metadata": {},
   "outputs": [
    {
     "data": {
      "image/png": "[encoded data removed]",
      "text/plain": [
       "<Figure size 640x480 with 1 Axes>"
      ]
     },
     "metadata": {},
     "output_type": "display_data"
    }
   ],
   "source": [
    "#Read the data\n",
    "dile_name = 'data-reg.csv'\n",
    "raw_data = pd.read_csv(dile_name, header=None).to_numpy()\n",
    "X = raw_data[:,:5]\n",
    "Y = raw_data[:,-1]\n",
    "\n",
    "#Split data to train test datasets\n",
    "X_train, X_test, Y_train, Y_test = train_test_split(X,Y, test_size=0.2, shuffle=True)\n",
    "\n",
    "#Standardisation of the data \n",
    "scaler = Standardiser().fit(X_train)\n",
    "X_train_scaled = scaler.transform(X_train)\n",
    "X_test_scaled = scaler.transform(X_test)\n",
    "\n",
    "#Choosing optimal hyperparameters\n",
    "tau_range = np.linspace(0.8,10,num=100)\n",
    "range_errors_train, range_errors_valid = validation_curve(LWLR, X_train_scaled, Y_train, tau_range, num_folds=5)\n",
    "\n",
    "# Svaka kolona sadrži skor za jedan \"struk\" unakrsne validacije.\n",
    "# Svaka vrsta odgovara jednom konkretnom redu polinoma.\n",
    "# Strukove koristimo da sračunamo srednju vrednost \n",
    "# i standardnu devijaciju skora za svaki pojedinačni stepem polinoma.\n",
    "train_scores_mean = np.mean(range_errors_train, axis=1)\n",
    "train_scores_std = np.std(range_errors_train, axis=1)\n",
    "valid_scores_mean = np.mean(range_errors_valid, axis=1)\n",
    "valid_scores_std = np.std(range_errors_valid, axis=1)\n",
    "\n",
    "plt.title(\"Validation + Training curve\")\n",
    "plt.xlabel(r\"$\\tau$\")\n",
    "plt.ylabel(r\"RMSE($\\tau$)\")\n",
    "lw = 2\n",
    "plt.plot(tau_range, train_scores_mean, label=\"Training\", color=\"darkorange\")\n",
    "plt.fill_between(tau_range, train_scores_mean - train_scores_std,\n",
    "                train_scores_mean + train_scores_std, alpha=0.2,\n",
    "                color=\"darkorange\")\n",
    "plt.plot(tau_range, valid_scores_mean, label=\"Validation\", color=\"navy\")\n",
    "plt.fill_between(tau_range, valid_scores_mean - valid_scores_std,\n",
    "                valid_scores_mean + valid_scores_std, alpha=0.2,\n",
    "                color=\"navy\")\n",
    "plt.plot([10, 10], [4, 7], 'r--', label = r\"Selected $\\tau$\")\n",
    "plt.legend(loc=\"best\")\n",
    "plt.show()"
   ]
  },
  {
   "cell_type": "markdown",
   "metadata": {},
   "source": [
    "Calculating error for optimal model:"
   ]
  },
  {
   "cell_type": "markdown",
   "metadata": {},
   "source": [
    "Since we observe that for small values of tau, the error on the training set is the lowest, while it is the highest on the validation set, we conclude that overfitting has occurred here. Essentially, this makes sense because each point is given a very small neighborhood in which other points have an influence, causing the model to learn each point individually without generalizing.\n",
    "\n",
    "For larger values of tau (tested up to tau = 100), we see a saturation effect, meaning that beyond a certain value, the specific choice of tau is less critical. I selected a tau of 10 as the best value based on the provided graph, balancing the error on the training and validation sets."
   ]
  },
  {
   "cell_type": "code",
   "execution_count": 7,
   "metadata": {},
   "outputs": [
    {
     "name": "stdout",
     "output_type": "stream",
     "text": [
      "Mean square error on training data:\n",
      "5.76\n",
      "Mean square error on test data:\n",
      "4.71\n"
     ]
    }
   ],
   "source": [
    "tau_opt = 10\n",
    "lwlr = LWLR(tau_opt)\n",
    "lwlr.fit(X_train_scaled,Y_train)\n",
    "\n",
    "# Generating prediction\n",
    "prediction_train = lwlr.predict(X_train_scaled)\n",
    "prediction_test = lwlr.predict(X_test_scaled)\n",
    "\n",
    "# Calculating mean square error\n",
    "mse_train = np.sqrt((np.square(prediction_train - Y_train)).mean())\n",
    "mse_test = np.sqrt((np.square(prediction_test - Y_test)).mean())\n",
    "\n",
    "print(\"Mean square error on training data:\")\n",
    "print(\"{:.2f}\".format(mse_train))\n",
    "print(\"Mean square error on test data:\")\n",
    "print(\"{:.2f}\".format(mse_test))"
   ]
  }
 ],
 "metadata": {
  "kernelspec": {
   "display_name": "masinsko_env",
   "language": "python",
   "name": "python3"
  },
  "language_info": {
   "codemirror_mode": {
    "name": "ipython",
    "version": 3
   },
   "file_extension": ".py",
   "mimetype": "text/x-python",
   "name": "python",
   "nbconvert_exporter": "python",
   "pygments_lexer": "ipython3",
   "version": "3.10.15"
  }
 },
 "nbformat": 4,
 "nbformat_minor": 2
}
