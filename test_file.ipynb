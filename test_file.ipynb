{
 "cells": [
  {
   "cell_type": "code",
   "execution_count": 1,
   "metadata": {},
   "outputs": [],
   "source": [
    "import pandas as pd"
   ]
  },
  {
   "cell_type": "code",
   "execution_count": 2,
   "metadata": {},
   "outputs": [],
   "source": [
    "# Standardization formula: z = (x - mean) / standard_deviation\n",
    "\n",
    "class Standardiser():\n",
    "    def __init__(self) -> None:\n",
    "        pass\n",
    "    \n",
    "    def fit(self, X):\n",
    "        self.size = X.shape[1]\n",
    "        \n",
    "        self.mean = X.mean(axis=0)\n",
    "        self.std = X.std(axis=0)\n",
    "        return self     #returns self, which allows method chaining\n",
    "    \n",
    "    def transform(self,X):\n",
    "        if X.shape[1] != self.size:\n",
    "            raise Exception(\"Wrong array dimensions!\")\n",
    "        return (X-self.mean)/self.std\n",
    "        "
   ]
  },
  {
   "cell_type": "code",
   "execution_count": 4,
   "metadata": {},
   "outputs": [
    {
     "name": "stdout",
     "output_type": "stream",
     "text": [
      "Mean of all predictors[0.20131508 8.97294864 0.13104092 0.11286003 0.22287212]\n",
      "Mean of all predictors standardised[-2.53208760e-17  0.00000000e+00 -7.79103877e-18  4.28507132e-17\n",
      " -1.81790905e-17]\n"
     ]
    }
   ],
   "source": [
    "#Read the data\n",
    "\n",
    "dile_name = 'data-reg.csv'\n",
    "raw_data = pd.read_csv(dile_name, header=None).to_numpy()\n",
    "\n",
    "X = raw_data[:,:5]\n",
    "Y = raw_data[:,-1]\n",
    "\n",
    "print(f\"Mean of all predictors{X.mean(axis=0)}\")\n",
    "\n",
    "scaler = Standardiser().fit(X)\n",
    "\n",
    "X_scaled = scaler.transform(X)\n",
    "print(f\"Mean of all predictors standardised{X_scaled.mean(axis=0)}\")\n",
    "\n",
    "\n",
    "\n",
    "\n",
    "\n",
    "   \n",
    "   \n"
   ]
  }
 ],
 "metadata": {
  "kernelspec": {
   "display_name": "masinsko_env",
   "language": "python",
   "name": "python3"
  },
  "language_info": {
   "codemirror_mode": {
    "name": "ipython",
    "version": 3
   },
   "file_extension": ".py",
   "mimetype": "text/x-python",
   "name": "python",
   "nbconvert_exporter": "python",
   "pygments_lexer": "ipython3",
   "version": "3.10.15"
  }
 },
 "nbformat": 4,
 "nbformat_minor": 2
}
